{
 "cells": [
  {
   "cell_type": "code",
   "execution_count": null,
   "metadata": {},
   "outputs": [],
   "source": [
    "#Author: Evan Wang\n",
    "#06.23.2021\n",
    "#Phase 1 Project"
   ]
  },
  {
   "cell_type": "code",
   "execution_count": 1,
   "metadata": {},
   "outputs": [],
   "source": [
    "#import packages\n",
    "import numpy as np\n",
    "import argparse\n",
    "import os\n",
    "from tensorflow.keras.models import load_model\n",
    "import cv2\n",
    "import matplotlib.pyplot as plt\n",
    "from tensorflow.keras.optimizers import Adam\n",
    "from tensorflow.keras.applications.mobilenet_v2 import preprocess_input\n",
    "from tensorflow.keras.preprocessing.image import img_to_array\n",
    "from tensorflow.keras.preprocessing.image import ImageDataGenerator\n",
    "from tensorflow.keras.applications import MobileNetV2\n",
    "from tensorflow.keras.layers import AveragePooling2D\n",
    "from tensorflow.keras.layers import Dropout\n",
    "from tensorflow.keras.layers import Flatten\n",
    "from tensorflow.keras.layers import Dense\n",
    "from tensorflow.keras.layers import Input\n",
    "from tensorflow.keras.models import Model\n",
    "from tensorflow.keras.preprocessing.image import load_img\n",
    "from tensorflow.keras.utils import to_categorical\n",
    "from sklearn.preprocessing import LabelBinarizer\n",
    "from sklearn.model_selection import train_test_split\n",
    "from sklearn.metrics import classification_report\n",
    "from imutils import paths"
   ]
  },
  {
   "cell_type": "code",
   "execution_count": 3,
   "metadata": {},
   "outputs": [],
   "source": [
    "ap = argparse.ArgumentParser()\n",
    "ap.add_argument(\"-d\", \"--dataset\")\n",
    "ap.add_argument(\"-p\", \"--plot\", type=str, default=\"acc+loss.png\")\n",
    "ap.add_argument(\"-m\", \"--model\", type=str,default=\"m.model\");\n",
    "#ap.add_argument(\"-f\", \"--face\", type=str, default=\"face\")\n",
    "ap.add_argument(\"-c\", \"--confidence\", type=float, default=0.5)\n",
    "args = vars(ap.parse_args(args=[]))"
   ]
  },
  {
   "cell_type": "code",
   "execution_count": 4,
   "metadata": {},
   "outputs": [
    {
     "name": "stderr",
     "output_type": "stream",
     "text": [
      "d:\\python\\lib\\site-packages\\PIL\\Image.py:951: UserWarning: Palette images with Transparency expressed in bytes should be converted to RGBA images\n",
      "  warnings.warn(\n"
     ]
    }
   ],
   "source": [
    "#read images and labels\n",
    "imagePaths = list(paths.list_images(\"dataset\"))\n",
    "data = []\n",
    "labels = []\n",
    "for imagePath in imagePaths:\n",
    "    label = imagePath.split(os.path.sep)[-2]\n",
    "    image = load_img(imagePath, target_size=(224, 224))\n",
    "    image = img_to_array(image)\n",
    "    image = preprocess_input(image)\n",
    "    data.append(image)\n",
    "    labels.append(label)"
   ]
  },
  {
   "cell_type": "code",
   "execution_count": 5,
   "metadata": {},
   "outputs": [],
   "source": [
    "data = np.array(data, dtype=\"float32\")\n",
    "labels = np.array(labels)\n",
    "#one-hot encoding labels\n",
    "lbb = LabelBinarizer()\n",
    "labels = lbb.fit_transform(labels)\n",
    "labels = to_categorical(labels)"
   ]
  },
  {
   "cell_type": "code",
   "execution_count": 6,
   "metadata": {},
   "outputs": [],
   "source": [
    "#split train and test data\n",
    "(trainX, testX, trainY, testY) = train_test_split(data, labels, test_size=0.20, stratify=labels, random_state=42)"
   ]
  },
  {
   "cell_type": "code",
   "execution_count": 7,
   "metadata": {},
   "outputs": [],
   "source": [
    "#adjust image\n",
    "adjust = ImageDataGenerator(rotation_range=15,zoom_range=0.16,width_shift_range=0.3,height_shift_range=0.3,shear_range=0.16,\n",
    "                            horizontal_flip=True,\n",
    "                            fill_mode=\"nearest\")"
   ]
  },
  {
   "cell_type": "code",
   "execution_count": 8,
   "metadata": {},
   "outputs": [
    {
     "name": "stdout",
     "output_type": "stream",
     "text": [
      "WARNING:tensorflow:`input_shape` is undefined or non-square, or `rows` is not in [96, 128, 160, 192, 224]. Weights for input shape (224, 224) will be loaded as the default.\n"
     ]
    }
   ],
   "source": [
    "#define imput model\n",
    "Model1 = MobileNetV2(weights=\"imagenet\", include_top=False, input_tensor=Input(shape=(224, 224, 3)));"
   ]
  },
  {
   "cell_type": "code",
   "execution_count": 9,
   "metadata": {},
   "outputs": [],
   "source": [
    "#define outputs model\n",
    "Model2 = Model1.output\n",
    "Model2 = AveragePooling2D(pool_size=(7, 7))(Model2)\n",
    "Model2 = Flatten(name=\"flatten\")(Model2)\n",
    "Model2 = Dense(128, activation=\"relu\")(Model2)\n",
    "Model2 = Dropout(0.5)(Model2)\n",
    "Model2 = Dense(2, activation=\"softmax\")(Model2)"
   ]
  },
  {
   "cell_type": "code",
   "execution_count": 10,
   "metadata": {},
   "outputs": [
    {
     "name": "stdout",
     "output_type": "stream",
     "text": [
      "Epoch 1/5\n",
      "90/90 [==============================] - 62s 691ms/step - loss: 0.2004 - accuracy: 0.9168 - val_loss: 0.0169 - val_accuracy: 1.0000\n",
      "Epoch 2/5\n",
      "90/90 [==============================] - 72s 795ms/step - loss: 0.0330 - accuracy: 0.9920 - val_loss: 0.0058 - val_accuracy: 1.0000\n",
      "Epoch 3/5\n",
      "90/90 [==============================] - 67s 746ms/step - loss: 0.0191 - accuracy: 0.9952 - val_loss: 0.0029 - val_accuracy: 1.0000\n",
      "Epoch 4/5\n",
      "90/90 [==============================] - 58s 647ms/step - loss: 0.0149 - accuracy: 0.9960 - val_loss: 0.0019 - val_accuracy: 1.0000\n",
      "Epoch 5/5\n",
      "90/90 [==============================] - 58s 644ms/step - loss: 0.0076 - accuracy: 0.9988 - val_loss: 0.0012 - val_accuracy: 1.0000\n"
     ]
    }
   ],
   "source": [
    "#adjust parameters\n",
    "LR = 1e-4 # have to be this value\n",
    "EPOCHS = 5\n",
    "BS = 28\n",
    "#define model\n",
    "model = Model(inputs=Model1.input, outputs=Model2)\n",
    "\n",
    "#let model1 will not be updated first\n",
    "for layer in Model1.layers:\n",
    "    layer.trainable = False\n",
    "\n",
    "# compile our model and fit the model\n",
    "opt = Adam(lr=LR, decay=LR / EPOCHS)\n",
    "model.compile(loss=\"binary_crossentropy\", optimizer=opt, metrics=[\"accuracy\"])\n",
    "M = model.fit(adjust.flow(trainX, trainY, batch_size=BS),steps_per_epoch=len(trainX) // BS,\n",
    "              validation_data=(testX, testY), validation_steps=len(testX) // BS,epochs=EPOCHS)"
   ]
  },
  {
   "cell_type": "code",
   "execution_count": 11,
   "metadata": {},
   "outputs": [
    {
     "name": "stdout",
     "output_type": "stream",
     "text": [
      "              precision    recall  f1-score   support\n",
      "\n",
      "         car       1.00      1.00      1.00       200\n",
      "       human       1.00      1.00      1.00       433\n",
      "\n",
      "    accuracy                           1.00       633\n",
      "   macro avg       1.00      1.00      1.00       633\n",
      "weighted avg       1.00      1.00      1.00       633\n",
      "\n"
     ]
    }
   ],
   "source": [
    "# make predictions\n",
    "predIdxs = model.predict(testX, batch_size=BS)\n",
    "# find the index of the label with max prob.\n",
    "predIdxs = np.argmax(predIdxs, axis=1)\n",
    "# show prediction report\n",
    "print(classification_report(testY.argmax(axis=1), predIdxs,\n",
    "                            target_names=lbb.classes_))\n",
    "#save model\n",
    "model.save(args[\"model\"], save_format=\"h5\")"
   ]
  },
  {
   "cell_type": "code",
   "execution_count": 12,
   "metadata": {},
   "outputs": [
    {
     "data": {
      "image/png": "[encoded data removed]",
      "text/plain": [
       "<Figure size 432x288 with 1 Axes>"
      ]
     },
     "metadata": {},
     "output_type": "display_data"
    }
   ],
   "source": [
    "# plot\n",
    "plt.style.use(\"ggplot\")\n",
    "plt.figure()\n",
    "plt.plot(np.arange(0, EPOCHS), M.history[\"loss\"], label=\"train_loss\")\n",
    "plt.plot(np.arange(0, EPOCHS), M.history[\"val_loss\"], label=\"val_loss\")\n",
    "plt.plot(np.arange(0, EPOCHS), M.history[\"accuracy\"], label=\"train_acc\")\n",
    "plt.plot(np.arange(0, EPOCHS), M.history[\"val_accuracy\"], label=\"val_acc\")\n",
    "plt.title(\"Loss and Accuracy\")\n",
    "plt.xlabel(\"Epoch\")\n",
    "plt.ylabel(\"Loss/Accuracy\")\n",
    "plt.legend(loc=\"lower left\")\n",
    "plt.savefig(args[\"plot\"])"
   ]
  },
  {
   "cell_type": "code",
   "execution_count": null,
   "metadata": {},
   "outputs": [],
   "source": []
  }
 ],
 "metadata": {
  "kernelspec": {
   "display_name": "Python 3",
   "language": "python",
   "name": "python3"
  },
  "language_info": {
   "codemirror_mode": {
    "name": "ipython",
    "version": 3
   },
   "file_extension": ".py",
   "mimetype": "text/x-python",
   "name": "python",
   "nbconvert_exporter": "python",
   "pygments_lexer": "ipython3",
   "version": "3.8.4"
  }
 },
 "nbformat": 4,
 "nbformat_minor": 4
}
